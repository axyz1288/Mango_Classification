{
 "cells": [
  {
   "cell_type": "code",
   "execution_count": 8,
   "metadata": {},
   "outputs": [],
   "source": [
    "from model.EfficientNet import EfficientNet\n",
    "from model.Mango import Mango\n",
    "import torch\n",
    "import torchvision.transforms as transforms\n",
    "from torch.optim import Adam, SGD\n",
    "import matplotlib.pyplot as plt\n",
    "from sklearn.metrics import confusion_matrix, ConfusionMatrixDisplay, recall_score\n",
    "\n",
    "TEST_DIR = \"./data/C1-P1_Test/\"\n",
    "TEST_CSV = \"./data/test.csv\"\n",
    "Mango_Class = {'A': 0, 'B': 1, 'C': 2}\n",
    "\n",
    "# hyper parameters\n",
    "DEPTH = 2\n",
    "WIDTH = 1.5\n",
    "RESOLUTION = 0.5\n",
    "BS_PER_GPU = 16\n",
    "NUM_CHANNELS = 3\n",
    "NUM_CLASSES = 3\n",
    "NUM_EPOCHS = 50\n",
    "NUM_ITERS = 100\n",
    "NUM_TEST_FRE = 1\n",
    "LR = 0.001\n",
    "SCH_SETPSIZE = 2\n",
    "SCH_DECAY = 0.95\n",
    "IMG_SIZE = int(224 * RESOLUTION)"
   ]
  },
  {
   "cell_type": "markdown",
   "metadata": {},
   "source": [
    "# DataLoader"
   ]
  },
  {
   "cell_type": "code",
   "execution_count": 9,
   "metadata": {},
   "outputs": [],
   "source": [
    "class Color:\n",
    "    def __init__(self, brightness=1, contrast=2):\n",
    "        self.brightness = brightness\n",
    "        self.contrast = contrast\n",
    "        \n",
    "    def __call__(self, imgs):\n",
    "        imgs = transforms.functional.adjust_brightness(imgs, self.brightness)\n",
    "        imgs = transforms.functional.adjust_contrast(imgs, self.contrast)\n",
    "        return imgs"
   ]
  },
  {
   "cell_type": "code",
   "execution_count": 10,
   "metadata": {},
   "outputs": [],
   "source": [
    "test_transform = transforms.Compose([\n",
    "    Color(1, 2),\n",
    "    transforms.Resize((IMG_SIZE, IMG_SIZE)),\n",
    "    transforms.ToTensor(),\n",
    "])\n",
    "\n",
    "testset = Mango(TEST_CSV, TEST_DIR, Mango_Class, test_transform, trainable=False)\n",
    "testloader = torch.utils.data.DataLoader(testset, batch_size=BS_PER_GPU, shuffle=False, num_workers=6)"
   ]
  },
  {
   "cell_type": "code",
   "execution_count": 12,
   "metadata": {},
   "outputs": [
    {
     "name": "stdout",
     "output_type": "stream",
     "text": [
      "torch.Size([3, 112, 112])\n"
     ]
    }
   ],
   "source": [
    "print(testset[0]['data'].shape)"
   ]
  },
  {
   "cell_type": "markdown",
   "metadata": {},
   "source": [
    "# Model"
   ]
  },
  {
   "cell_type": "code",
   "execution_count": 4,
   "metadata": {},
   "outputs": [
    {
     "data": {
      "text/plain": [
       "<All keys matched successfully>"
      ]
     },
     "execution_count": 4,
     "metadata": {},
     "output_type": "execute_result"
    }
   ],
   "source": [
    "model = EfficientNet(DEPTH, WIDTH, NUM_CHANNELS, dropout=0.2, classes=NUM_CLASSES).cuda()\n",
    "model.load_state_dict(torch.load('./model/weights/Efficient_'+ str(DEPTH) + str(WIDTH) + '.pkl'))"
   ]
  },
  {
   "cell_type": "markdown",
   "metadata": {},
   "source": [
    "# Testing"
   ]
  },
  {
   "cell_type": "code",
   "execution_count": 5,
   "metadata": {},
   "outputs": [],
   "source": [
    "model.eval()\n",
    "predict_list = []\n",
    "for i , data in enumerate(testloader):            \n",
    "    imgs = data[\"data\"].cuda()\n",
    "    outputs = model(imgs)\n",
    "    predicts = torch.argmax(outputs, dim=1)\n",
    "    for i in predicts.cpu():\n",
    "        predict_list.append(int(i.item()))"
   ]
  },
  {
   "cell_type": "code",
   "execution_count": 6,
   "metadata": {
    "scrolled": true
   },
   "outputs": [
    {
     "name": "stderr",
     "output_type": "stream",
     "text": [
      "/usr/local/lib/python3.6/dist-packages/ipykernel_launcher.py:6: SettingWithCopyWarning: \n",
      "A value is trying to be set on a copy of a slice from a DataFrame\n",
      "\n",
      "See the caveats in the documentation: https://pandas.pydata.org/pandas-docs/stable/user_guide/indexing.html#returning-a-view-versus-a-copy\n",
      "  \n",
      "/usr/local/lib/python3.6/dist-packages/pandas/core/indexing.py:671: SettingWithCopyWarning: \n",
      "A value is trying to be set on a copy of a slice from a DataFrame\n",
      "\n",
      "See the caveats in the documentation: https://pandas.pydata.org/pandas-docs/stable/user_guide/indexing.html#returning-a-view-versus-a-copy\n",
      "  self._setitem_with_indexer(indexer, value)\n"
     ]
    }
   ],
   "source": [
    "import pandas as pd\n",
    "idxtoclass = {0: 'A', 1: 'B', 2: 'C'}\n",
    "\n",
    "csv = pd.read_csv(TEST_CSV)\n",
    "for i in range(len(predict_list)):\n",
    "    csv['label'][i] = idxtoclass[predict_list[i]]\n",
    "csv.to_csv('./experiment/test6.csv', index=False)"
   ]
  },
  {
   "cell_type": "code",
   "execution_count": 7,
   "metadata": {},
   "outputs": [
    {
     "name": "stdout",
     "output_type": "stream",
     "text": [
      "00006.jpg\n",
      "00046.jpg\n",
      "00135.jpg\n",
      "00220.jpg\n",
      "00389.jpg\n",
      "00405.jpg\n",
      "00502.jpg\n",
      "00506.jpg\n",
      "00515.jpg\n",
      "00530.jpg\n",
      "00534.jpg\n",
      "00540.jpg\n",
      "00724.jpg\n",
      "00810.jpg\n",
      "01020.jpg\n",
      "01108.jpg\n",
      "01116.jpg\n",
      "01124.jpg\n",
      "01316.jpg\n",
      "01375.jpg\n",
      "01524.jpg\n",
      "01535.jpg\n",
      "01605.jpg\n",
      "01621.jpg\n",
      "01652.jpg\n",
      "01656.jpg\n",
      "01671.jpg\n",
      "01698.jpg\n",
      "01738.jpg\n",
      "01775.jpg\n",
      "01849.jpg\n",
      "01862.jpg\n",
      "01922.jpg\n",
      "01956.jpg\n",
      "01989.jpg\n",
      "02028.jpg\n",
      "02032.jpg\n",
      "02040.jpg\n",
      "02136.jpg\n",
      "02150.jpg\n",
      "02187.jpg\n",
      "02234.jpg\n",
      "02250.jpg\n",
      "02254.jpg\n",
      "02264.jpg\n",
      "02278.jpg\n",
      "02313.jpg\n",
      "02320.jpg\n",
      "02329.jpg\n",
      "02348.jpg\n",
      "02374.jpg\n",
      "02539.jpg\n",
      "02552.jpg\n",
      "02600.jpg\n",
      "02603.jpg\n",
      "02730.jpg\n",
      "02763.jpg\n",
      "02810.jpg\n",
      "02811.jpg\n",
      "02814.jpg\n",
      "02872.jpg\n",
      "02879.jpg\n",
      "02992.jpg\n",
      "03073.jpg\n",
      "03107.jpg\n",
      "03122.jpg\n",
      "03123.jpg\n",
      "03131.jpg\n",
      "03166.jpg\n",
      "03201.jpg\n",
      "03221.jpg\n",
      "03222.jpg\n",
      "03271.jpg\n",
      "03348.jpg\n",
      "03394.jpg\n",
      "03398.jpg\n",
      "03422.jpg\n",
      "03427.jpg\n",
      "03460.jpg\n",
      "03475.jpg\n",
      "03535.jpg\n",
      "03575.jpg\n",
      "03586.jpg\n",
      "03749.jpg\n",
      "03758.jpg\n",
      "03793.jpg\n",
      "03880.jpg\n",
      "03891.jpg\n",
      "03958.jpg\n",
      "03975.jpg\n",
      "03976.jpg\n",
      "03980.jpg\n",
      "04006.jpg\n",
      "04010.jpg\n",
      "04017.jpg\n",
      "04128.jpg\n",
      "04156.jpg\n",
      "04165.jpg\n",
      "04172.jpg\n",
      "04193.jpg\n",
      "04207.jpg\n",
      "04226.jpg\n",
      "04331.jpg\n",
      "04338.jpg\n",
      "04421.jpg\n",
      "04426.jpg\n",
      "04510.jpg\n",
      "04532.jpg\n",
      "04538.jpg\n",
      "04602.jpg\n",
      "04610.jpg\n",
      "04694.jpg\n",
      "04721.jpg\n",
      "04724.jpg\n",
      "04796.jpg\n",
      "04797.jpg\n",
      "04834.jpg\n",
      "04851.jpg\n",
      "04901.jpg\n",
      "04940.jpg\n",
      "04942.jpg\n",
      "04985.jpg\n",
      "05060.jpg\n",
      "05115.jpg\n",
      "05146.jpg\n",
      "05182.jpg\n",
      "05215.jpg\n",
      "05298.jpg\n",
      "05301.jpg\n",
      "05329.jpg\n",
      "05366.jpg\n",
      "05380.jpg\n",
      "05382.jpg\n",
      "05454.jpg\n",
      "05543.jpg\n",
      "05651.jpg\n",
      "05691.jpg\n",
      "05709.jpg\n",
      "05832.jpg\n",
      "05997.jpg\n",
      "06077.jpg\n",
      "06114.jpg\n",
      "06144.jpg\n",
      "06235.jpg\n",
      "06243.jpg\n",
      "06298.jpg\n",
      "06342.jpg\n",
      "06345.jpg\n",
      "06624.jpg\n",
      "06645.jpg\n",
      "06729.jpg\n",
      "06750.jpg\n",
      "06788.jpg\n",
      "06798.jpg\n",
      "06851.jpg\n",
      "06966.jpg\n",
      "06971.jpg\n",
      "06973.jpg\n",
      "07022.jpg\n",
      "07033.jpg\n",
      "07083.jpg\n",
      "07150.jpg\n",
      "07169.jpg\n",
      "07225.jpg\n",
      "07230.jpg\n",
      "07246.jpg\n",
      "07261.jpg\n",
      "07318.jpg\n",
      "07322.jpg\n",
      "07387.jpg\n",
      "07569.jpg\n",
      "07573.jpg\n",
      "07592.jpg\n",
      "07862.jpg\n",
      "07915.jpg\n",
      "07918.jpg\n",
      "07949.jpg\n",
      "07962.jpg\n",
      "07975.jpg\n",
      "179\n"
     ]
    }
   ],
   "source": [
    "csv = pd.read_csv('./compare.csv')\n",
    "count = 0\n",
    "for i in range(len(csv['image_id'])):\n",
    "    if (csv['76'][i] != csv['74'][i]):\n",
    "        print(csv['image_id'][i])\n",
    "        count +=1\n",
    "print(count)"
   ]
  }
 ],
 "metadata": {
  "kernelspec": {
   "display_name": "Python 3",
   "language": "python",
   "name": "python3"
  },
  "language_info": {
   "codemirror_mode": {
    "name": "ipython",
    "version": 3
   },
   "file_extension": ".py",
   "mimetype": "text/x-python",
   "name": "python",
   "nbconvert_exporter": "python",
   "pygments_lexer": "ipython3",
   "version": "3.6.9"
  }
 },
 "nbformat": 4,
 "nbformat_minor": 4
}
